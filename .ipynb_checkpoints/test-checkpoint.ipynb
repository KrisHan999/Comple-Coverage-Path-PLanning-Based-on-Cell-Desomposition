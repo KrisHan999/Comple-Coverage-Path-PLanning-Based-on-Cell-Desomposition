{
 "cells": [
  {
   "cell_type": "code",
   "execution_count": 3,
   "metadata": {},
   "outputs": [],
   "source": [
    "import sys\n",
    "from helpers.graph import *\n",
    "from helpers.geometry import *;\n",
    "import matplotlib.pyplot as plt"
   ]
  },
  {
   "cell_type": "markdown",
   "metadata": {},
   "source": [
    "Get the raw data\n",
    "- first line is the graph boundary data\n",
    "- last line is the source and dest point\n",
    "- others are obstacles\n",
    "\n",
    "In this step, need to communicate with the countours extraction step which will provide the boundary and obstacle points"
   ]
  },
  {
   "cell_type": "code",
   "execution_count": 4,
   "metadata": {},
   "outputs": [],
   "source": [
    "# get data from file\n",
    "def get_raw_data(file):\n",
    "    file_handler = open(file,\"r\")\n",
    "    raw_data = file_handler.read()\n",
    "    raw_data = raw_data.split(\"\\n\")\n",
    "    assert len(raw_data)>2, \"Incorrect format of the input file\"\n",
    "    return raw_data"
   ]
  },
  {
   "cell_type": "code",
   "execution_count": 5,
   "metadata": {},
   "outputs": [
    {
     "name": "stdout",
     "output_type": "stream",
     "text": [
      "['(0, 0), (300, 0), (300, 200), (0, 200)', '(33, 40), (67, 55), (75, 109), (128, 97), (84, 149), (44, 94)', '(189, 102), (250, 165), (158, 132)', '(180, 23), (274, 46), (225, 97), (212, 61), (148, 83)', '(100, 90), (290, 60)']\n"
     ]
    }
   ],
   "source": [
    "# Another way to get the data.\n",
    "file_line_handler = open(\"input_file\", \"r\")\n",
    "line_data = file_line_handler.readlines()\n",
    "data = []\n",
    "for line in line_data:\n",
    "    data.append(line.strip('\\n'))\n",
    "print(data)"
   ]
  },
  {
   "cell_type": "code",
   "execution_count": 6,
   "metadata": {
    "scrolled": false
   },
   "outputs": [],
   "source": [
    "raw_data = get_raw_data(\"input_file\")"
   ]
  },
  {
   "cell_type": "markdown",
   "metadata": {},
   "source": [
    "Function: `def parse_input_line(line)`\n",
    "\n",
    "Change the line format to array:\n",
    "\n",
    "for Example:  `[[0, 0], [300, 0], [300, 200], [0, 200]]`"
   ]
  },
  {
   "cell_type": "code",
   "execution_count": 7,
   "metadata": {},
   "outputs": [],
   "source": [
    "def parse_input_line(line):\n",
    "    temp2 = [];\n",
    "    line = [i.strip() for i in line.split(\",\")];\n",
    "    vertex = [];\n",
    "    for index,i in enumerate(line):\n",
    "        if(i[0] == \"(\"):\n",
    "            i = i[1:];\n",
    "        if(i[len(i)-1] == \")\"):\n",
    "            i= i[:-1];\n",
    "        vertex.append(int(i));\n",
    "        if(index%2 != 0):\n",
    "            temp2.append(vertex);\n",
    "            vertex = [];\n",
    "    return temp2;"
   ]
  },
  {
   "cell_type": "markdown",
   "metadata": {},
   "source": [
    "Extract vertices and store them in boundary, obstacle, source, dest list"
   ]
  },
  {
   "cell_type": "code",
   "execution_count": 8,
   "metadata": {},
   "outputs": [],
   "source": [
    "def extract_vertices(raw_data):\n",
    "    # Extract boundary----------------------------------------------\n",
    "    temp = parse_input_line(raw_data[0])\n",
    "    boundary = [point(i[0], i[1]) for i in temp]\n",
    "\n",
    "    # Extract source and dest\n",
    "    temp = parse_input_line(raw_data[-1])\n",
    "    source = point(temp[0][0], temp[0][1])\n",
    "    dest = point(temp[1][0], temp[1][1])\n",
    "\n",
    "    # Extract obstacles\n",
    "    obstacles = []\n",
    "    for i in raw_data[1:-1]:\n",
    "        obstacles.append(parse_input_line(i) )\n",
    "    return boundary, obstacles, source, dest"
   ]
  },
  {
   "cell_type": "code",
   "execution_count": 11,
   "metadata": {},
   "outputs": [],
   "source": [
    "boundary, obstacles, source, dest = extract_vertices(raw_data)"
   ]
  },
  {
   "cell_type": "code",
   "execution_count": 12,
   "metadata": {},
   "outputs": [
    {
     "name": "stdout",
     "output_type": "stream",
     "text": [
      "[[[33, 40], [67, 55], [75, 109], [128, 97], [84, 149], [44, 94]], [[189, 102], [250, 165], [158, 132]], [[180, 23], [274, 46], [225, 97], [212, 61], [148, 83]]]\n"
     ]
    }
   ],
   "source": [
    "print(obstacles)"
   ]
  },
  {
   "cell_type": "code",
   "execution_count": 13,
   "metadata": {},
   "outputs": [],
   "source": [
    "# Draw the obstacles and point the source and the destination----------------------------------------------\n",
    "def draw_problem(boundary, obstacles, source, dest):\n",
    "    bnd_x = [i.x for i in boundary]\n",
    "    # add the x-value of the start point\n",
    "    bnd_x.append(boundary[0].x)\n",
    "    bnd_y = [i.y for i in boundary]\n",
    "    # add the y-value of the start point\n",
    "    bnd_y.append(boundary[0].y)\n",
    "    poly_x = []\n",
    "    poly_y = []\n",
    "\n",
    "    # Draw the boundary\n",
    "    plt.plot(bnd_x, bnd_y)\n",
    "\n",
    "    for index, i in enumerate(obstacles):\n",
    "        poly_x.append([p[0] for p in i])\n",
    "        poly_y.append([p[1] for p in i])\n",
    "\n",
    "        plt.fill( poly_x[index], poly_y[index], color=\"#512DA8\")\n",
    "\n",
    "    plt.plot(source.x, source.y, marker=\"o\")\n",
    "    plt.plot(dest.x, dest.y, marker=\"o\")\n",
    "    plt.annotate('Source', xy=(source.x, source.y), xytext=(source.x+5, source.y-6) )\n",
    "    plt.annotate('Destination', xy=(dest.x, dest.y), xytext=(dest.x-4, dest.y-10) )"
   ]
  },
  {
   "cell_type": "code",
   "execution_count": 14,
   "metadata": {
    "scrolled": true
   },
   "outputs": [
    {
     "data": {
      "image/png": "[encoded data removed]",
      "text/plain": [
       "<Figure size 432x288 with 1 Axes>"
      ]
     },
     "metadata": {},
     "output_type": "display_data"
    }
   ],
   "source": [
    "draw_problem(boundary, obstacles, source, dest)"
   ]
  },
  {
   "cell_type": "code",
   "execution_count": 15,
   "metadata": {},
   "outputs": [],
   "source": [
    "#sort the obstacle points by x-values\n",
    "# sorted_vertices = []\n",
    "# for index,i in enumerate(obstacles):\n",
    "#     # differntiate the obstacles by the index appended in the end \n",
    "#     # now each obstacle point has 3 value [x, y, index]\n",
    "#     for j in i:\n",
    "#         j.append(index)\n",
    "#         sorted_vertices.append(j)\n",
    "# sorted_vertices.sort(key=lambda x: x[0])\n",
    "# print(sorted_vertices)"
   ]
  },
  {
   "cell_type": "code",
   "execution_count": 16,
   "metadata": {},
   "outputs": [],
   "source": [
    "# new_sorted_vertices array: store the sorted(by x-value) point object of the obstacle points\n",
    "# new_sorted_vertices = [];\n",
    "# for i in sorted_vertices:\n",
    "#     temp = point(i[0], i[1], i[2])\n",
    "#     new_sorted_vertices.append(temp)"
   ]
  },
  {
   "cell_type": "code",
   "execution_count": 17,
   "metadata": {},
   "outputs": [
    {
     "name": "stdout",
     "output_type": "stream",
     "text": [
      "x = 33, y = 40, obs = 0 and test:-1\n",
      "x = 44, y = 94, obs = 0 and test:-1\n",
      "x = 67, y = 55, obs = 0 and test:-1\n",
      "x = 75, y = 109, obs = 0 and test:-1\n",
      "x = 84, y = 149, obs = 0 and test:-1\n",
      "x = 128, y = 97, obs = 0 and test:-1\n",
      "x = 148, y = 83, obs = 2 and test:-1\n",
      "x = 158, y = 132, obs = 1 and test:-1\n",
      "x = 180, y = 23, obs = 2 and test:-1\n",
      "x = 189, y = 102, obs = 1 and test:-1\n",
      "x = 212, y = 61, obs = 2 and test:-1\n",
      "x = 225, y = 97, obs = 2 and test:-1\n",
      "x = 250, y = 165, obs = 1 and test:-1\n",
      "x = 274, y = 46, obs = 2 and test:-1\n"
     ]
    }
   ],
   "source": [
    "new_sorted_vertices = []\n",
    "for index, pnts in enumerate(obstacles):\n",
    "    for pnt in pnts:\n",
    "        new_sorted_vertices.append(point(pnt[0], pnt[1], index))\n",
    "new_sorted_vertices.sort(key = lambda pnt: pnt.x)\n",
    "\n",
    "for pnt in new_sorted_vertices:\n",
    "    print(pnt)"
   ]
  },
  {
   "cell_type": "code",
   "execution_count": 18,
   "metadata": {},
   "outputs": [
    {
     "name": "stdout",
     "output_type": "stream",
     "text": [
      "x = 33, y = 40, obs = 0 and test:-1\n",
      "x = 67, y = 55, obs = 0 and test:-1\n",
      "x = 75, y = 109, obs = 0 and test:-1\n",
      "x = 128, y = 97, obs = 0 and test:-1\n",
      "x = 84, y = 149, obs = 0 and test:-1\n",
      "x = 44, y = 94, obs = 0 and test:-1\n",
      "x = 189, y = 102, obs = 1 and test:-1\n",
      "x = 250, y = 165, obs = 1 and test:-1\n",
      "x = 158, y = 132, obs = 1 and test:-1\n",
      "x = 180, y = 23, obs = 2 and test:-1\n",
      "x = 274, y = 46, obs = 2 and test:-1\n",
      "x = 225, y = 97, obs = 2 and test:-1\n",
      "x = 212, y = 61, obs = 2 and test:-1\n",
      "x = 148, y = 83, obs = 2 and test:-1\n"
     ]
    }
   ],
   "source": [
    "# obstacle array, each element is a obstacle composed by the points[x, y, index]\n",
    "new_obstacles = []\n",
    "for index, i in enumerate(obstacles):\n",
    "    temp_obs = []\n",
    "    for j in i:\n",
    "        temp = point(j[0], j[1], index)\n",
    "        temp_obs.append(temp)\n",
    "    new_obstacles.append(temp_obs)\n",
    "    \n",
    "for ost in new_obstacles:\n",
    "    for pnt in ost:\n",
    "        print(pnt)"
   ]
  },
  {
   "cell_type": "code",
   "execution_count": 19,
   "metadata": {},
   "outputs": [
    {
     "data": {
      "image/png": "[encoded data removed]",
      "text/plain": [
       "<Figure size 432x288 with 1 Axes>"
      ]
     },
     "metadata": {},
     "output_type": "display_data"
    }
   ],
   "source": [
    "draw_problem(boundary, obstacles, source, dest)\n",
    "#-----------------------------------------------------------\n",
    "# Find vertical lines\n",
    "open_line_segments = [];\n",
    "\n",
    "y_limit_lower = boundary[0].y;\n",
    "y_limit_upper = boundary[2].y;\n",
    "\n",
    "for pt in new_sorted_vertices:\n",
    "    curr_line_segment = [ point(pt.x, y_limit_lower), point(pt.x, y_limit_upper) ]; \n",
    "    lower_obs_pt = curr_line_segment[0];\n",
    "    upper_obs_pt = curr_line_segment[1];\n",
    "    upper_gone = False;\n",
    "    lower_gone = False;\n",
    "    break_now = False;\n",
    "\n",
    "\t# Find intersection points with the vertical proposed lines. the intersection function returns false if segments are same, so no need to worry about same segment checking\n",
    "    for index,obs in enumerate(new_obstacles):\n",
    "        # Add the first point again for the last line segment of a polygon.\n",
    "\n",
    "        obs.append( obs[0] );\n",
    "\n",
    "        \n",
    "        for vertex_index in range(len(obs)-1 ):\n",
    "            # compare curr_line and segment from obstacle\n",
    "            # check whether the two section is intersected or colinear\n",
    "            # since the curr_line is the segment [point(pt.x, y_limit_lower), point(pt.x, y_limit_upper)], so that if the points are colinear, it must intersect\n",
    "            # return the intersection point if the line intersect, and -1 if not.\n",
    "            res = segment_intersection( curr_line_segment[0], curr_line_segment[1], obs[vertex_index],  obs[vertex_index+1]);\n",
    "            if (res!=-1):\n",
    "                if ( index == pt.obstacle ):\n",
    "                    if pt.equals( res ) == False:\n",
    "                        if ( res.y > pt.y ):\n",
    "                            upper_gone = True;\n",
    "                        elif ( res.y < pt.y ):\n",
    "                            lower_gone = True;\t\n",
    "                else:\t\n",
    "                    if pt.equals( res ) == False:\n",
    "                        if ( upper_gone is False ):\n",
    "                            if ( (res.y > pt.y) and res.y < (upper_obs_pt.y) ):\n",
    "                                upper_obs_pt = res;\n",
    "                        if ( lower_gone is False ):\n",
    "                            if ( (res.y < pt.y) and (res.y > lower_obs_pt.y) ):\n",
    "                                lower_obs_pt = res;\n",
    "\n",
    "            if( upper_gone is True and lower_gone is True ):\n",
    "                break_now = True;\n",
    "\n",
    "        #No need to check for current point anymore...completely blocked\n",
    "        if(break_now is True):\n",
    "            break;\t\t\n",
    "\n",
    "    # Draw the vertical cell lines\n",
    "    if(lower_gone is False):\n",
    "        plt.plot( [lower_obs_pt.x, pt.x],  [lower_obs_pt.y, pt.y] );\n",
    "\n",
    "    if(upper_gone is False):\n",
    "        plt.plot( [pt.x, upper_obs_pt.x],  [pt.y, upper_obs_pt.y] );\n",
    "\n",
    "    # Add to the global segment list\n",
    "    if (lower_gone and upper_gone):\n",
    "        open_line_segments.append([None, None]);\n",
    "    elif (lower_gone):\n",
    "        open_line_segments.append([None, upper_obs_pt]);\n",
    "    elif (upper_gone):\n",
    "        open_line_segments.append([lower_obs_pt, None]);\n",
    "    else:\n",
    "        open_line_segments.append([lower_obs_pt, upper_obs_pt]);"
   ]
  },
  {
   "cell_type": "code",
   "execution_count": 20,
   "metadata": {},
   "outputs": [
    {
     "name": "stdout",
     "output_type": "stream",
     "text": [
      "14\n"
     ]
    }
   ],
   "source": [
    "print(len(open_line_segments))"
   ]
  },
  {
   "cell_type": "code",
   "execution_count": 47,
   "metadata": {},
   "outputs": [
    {
     "data": {
      "image/png": "[encoded data removed]",
      "text/plain": [
       "<Figure size 432x288 with 1 Axes>"
      ]
     },
     "metadata": {},
     "output_type": "display_data"
    }
   ],
   "source": [
    "\n",
    "#------------------------------------------------------\n",
    "# Find Polygon cells naiively. Will improve next. \n",
    "cells = [];\n",
    "\n",
    "# open_line_segments and new_sorted_vertices has the same order of points, based on the x_value\n",
    "\n",
    "for index1 in range(len(open_line_segments) ):\n",
    "    curr_segment = open_line_segments[index1];\n",
    "    curr_vertex = new_sorted_vertices[index1];\n",
    "    break_now = False;\n",
    "    done = [False, False, True];\n",
    "\n",
    "    # if the lower pt is the vertice\n",
    "    if( curr_segment[0] is None ):\n",
    "        done[0] = True; \n",
    "    # if the upper vertice is the vertice\n",
    "    if( curr_segment[1] is None ):\n",
    "        done[1] = True;\t\n",
    "    # if both lower and upper pts are the vertice, which also means there is no vertical line through this line\n",
    "    if( curr_segment[0] is None and curr_segment[1] is None):\n",
    "        done[2] = False;\t\n",
    "\n",
    "    # index2 the following sorted vertices\n",
    "    for index2 in range(index1+1,  len(open_line_segments)):\n",
    "        next_segment = open_line_segments[index2];\n",
    "        next_vertex = new_sorted_vertices[index2];\t\t\t\n",
    "\n",
    "        double_index1 = -2;\n",
    "        double_index2 = -2;\n",
    "        lines_to_check = [];\n",
    "        trapezoids = [];\n",
    "        double_check = False;\n",
    "\n",
    "        # both end points of the following segment aren't the vertice.\n",
    "        if (next_segment[0] is not None and next_segment[1] is not None ):\n",
    "            double_check = True;\n",
    "\n",
    "        # if the lower pt isn't the vertice\n",
    "        if( done[0] is False ):\n",
    "            if( double_check ):\n",
    "                double_index1 = len(lines_to_check);\n",
    "                lines_to_check.append( [centroid([curr_segment[0], curr_vertex]), centroid([next_segment[0], next_vertex]), 0]);\n",
    "                lines_to_check.append( [centroid([curr_segment[0], curr_vertex]), centroid([next_segment[1], next_vertex]), 0]);\n",
    "                trapezoids.append([ curr_segment[0], next_segment[0], next_vertex, curr_vertex ]);\n",
    "                trapezoids.append([ curr_segment[0], next_vertex, next_segment[1], curr_vertex ]);\n",
    "            elif ( next_segment[0] is not None ):\n",
    "                lines_to_check.append( [centroid([curr_segment[0], curr_vertex]), centroid([next_segment[0], next_vertex]), 0]);\n",
    "                trapezoids.append([ curr_segment[0], next_segment[0], next_vertex, curr_vertex ]);\n",
    "            elif( next_segment[1] is not None ):\n",
    "                lines_to_check.append( [centroid([curr_segment[0], curr_vertex]), centroid([next_segment[1], next_vertex]), 0]);\n",
    "                trapezoids.append([ curr_segment[0], next_vertex, next_segment[1], curr_vertex ]);\n",
    "            else:\n",
    "                lines_to_check.append( [centroid([curr_segment[0], curr_vertex]), next_vertex, 0]);\n",
    "                trapezoids.append([ curr_segment[0], next_vertex, curr_vertex ]);\n",
    "\n",
    "        if( done[1] is False ):\n",
    "            if( double_check ):\n",
    "                double_index2 = len(lines_to_check);\n",
    "                lines_to_check.append( [centroid([curr_segment[1], curr_vertex]), centroid([next_segment[0], next_vertex]), 1]);\n",
    "                lines_to_check.append( [centroid([curr_segment[1], curr_vertex]), centroid([next_segment[1], next_vertex]), 1]);\n",
    "                trapezoids.append([ curr_vertex, next_segment[0], next_vertex , point(curr_segment[1].x, curr_segment[1].y,curr_segment[1].obstacle, 34)]);\n",
    "                trapezoids.append([ curr_vertex, next_vertex, next_segment[1], curr_segment[1] ]);\n",
    "            elif ( next_segment[1] is not None ):\n",
    "                lines_to_check.append( [centroid([curr_segment[1], curr_vertex]), centroid([next_segment[1], next_vertex]), 1]);\n",
    "                trapezoids.append([ curr_vertex, next_vertex, next_segment[1], curr_segment[1] ]);\n",
    "            elif( next_segment[0] is not None ):\n",
    "                lines_to_check.append( [centroid([curr_segment[1], curr_vertex]), centroid([next_segment[0], next_vertex]), 1]);\n",
    "                trapezoids.append([ curr_vertex, next_segment[0], next_vertex , curr_segment[1] ]);\n",
    "            else:\n",
    "                lines_to_check.append( [centroid([curr_segment[1], curr_vertex]), next_vertex, 1]);\n",
    "                trapezoids.append([ curr_vertex, next_vertex, curr_segment[1] ]);\n",
    "\n",
    "        if( done[2] is False ):\n",
    "            if(double_check):\n",
    "                double_index = len(lines_to_check);\n",
    "                lines_to_check.append( [curr_vertex, centroid([next_segment[0], next_vertex]), 2]);\n",
    "                trapezoids.append([ curr_vertex,next_segment[0], next_vertex ]);\n",
    "                lines_to_check.append( [curr_vertex, centroid([next_segment[1], next_vertex]), 2]);\n",
    "                trapezoids.append([ curr_vertex, next_vertex, next_segment[1] ]);\n",
    "            elif ( next_segment[0] is not None ):\n",
    "                lines_to_check.append( [curr_vertex, centroid([next_segment[0], next_vertex]), 2]);\n",
    "                trapezoids.append([ curr_vertex,next_segment[0], next_vertex ]);\n",
    "            elif( next_segment[1] is not None ):\n",
    "                lines_to_check.append( [curr_vertex, centroid([next_segment[1], next_vertex]), 2]);\n",
    "                trapezoids.append([ curr_vertex, next_vertex, next_segment[1] ]);\n",
    "            # Will this ever occur though??\n",
    "            else:\n",
    "                lines_to_check.append( [curr_vertex, next_vertex, 2]);\n",
    "                trapezoids.append([curr_vertex, next_vertex]);\n",
    "\n",
    "        temp_to_remove = [];\n",
    "        for index5,q in enumerate(lines_to_check): \n",
    "            ok = [True, True, True];\n",
    "            for index3,obs in enumerate(new_obstacles):\n",
    "                # Add the last line to make closed polygon\n",
    "                obs.append( obs[0] );\n",
    "                for index4 in range(len(obs)-1):\n",
    "                    if (segment_intersection( q[0], q[1],  obs[index4],  obs[index4+1]) != -1):\n",
    "                        ok[q[2]] = False;\n",
    "                        if(index5 not in temp_to_remove):\n",
    "                            temp_to_remove.append(index5);\n",
    "\n",
    "\n",
    "            if (  ok[q[2]] is True ):\n",
    "                done[q[2]] = True;\n",
    "\n",
    "        for i in range(len(lines_to_check)):\n",
    "            if i not in temp_to_remove:\n",
    "                cells.append(trapezoids[i]);\n",
    "\n",
    "        if( done[0] == True and done[1] == True and done[2] == True ):\n",
    "            break;\n",
    "\n",
    "to_draw =[];\n",
    "for i in cells:\n",
    "\ti.append(i[0]);\n",
    "\tto_draw.append(i);\n",
    "\n",
    "\n",
    "# #-------------------------------------------------------\n",
    "# # Merge overlapping Polygons\n",
    "quad_cells = [i for i in cells if len(i)>3];\n",
    "tri_cells = [i for i in cells if len(i)==3];\n",
    "others = [i for i in cells if len(i)<3];\n",
    "quads_to_remove = [];\n",
    "quads_to_add = [];\n",
    "\n",
    "quads_to_remove = [];\n",
    "quads_to_add = [];\n",
    "for index_cell in range(len(quad_cells)):\n",
    "    for index_cell2,cell in enumerate(quad_cells):\n",
    "        if(index_cell != index_cell2):\n",
    "            if(quad_cells[index_cell][0].x == cell[0].x and quad_cells[index_cell][1].x == cell[1].x):\n",
    "                    temp1 = list(quad_cells[index_cell]);\n",
    "                    temp1.append(temp1[0]);\n",
    "                    temp2 = list(cell);\n",
    "                    temp2.append(temp2[0]);\n",
    "                    area1 = polygon_area(temp1,4); area2 = polygon_area(temp2,4);\n",
    "                    new_quad=[];\n",
    "\n",
    "                    new_quad.append( point(temp1[0].x, min(temp1[0].y, temp2[0].y)) );\n",
    "                    new_quad.append( point(temp1[1].x, min(temp1[1].y, temp2[1].y)) );\n",
    "                    new_quad.append( point(temp1[1].x, max(temp1[2].y, temp2[2].y)) );\n",
    "                    new_quad.append( point(temp1[0].x, max(temp1[3].y, temp2[3].y)) );\n",
    "                    new_quad.append( point(temp1[0].x, min(temp1[0].y, temp2[0].y)) );\n",
    "                    area3 = polygon_area(new_quad, 4);\n",
    "                    if( area1 + area2 >= area3):\n",
    "                        #merge\n",
    "                        quads_to_remove.append(index_cell);\n",
    "                        quads_to_remove.append(index_cell2);\n",
    "\n",
    "                        quads_to_add.append(new_quad);\n",
    "\n",
    "quads_to_remove = list(set(quads_to_remove));\n",
    "for index in sorted(quads_to_remove, reverse=True):\n",
    "    del quad_cells[index];\n",
    "\n",
    "for i in quads_to_add:\n",
    "    quad_cells.append(i);\n",
    "\n",
    "# # Remove duplicates\n",
    "to_remove = [];\n",
    "for index1 in range(len(quad_cells)):\n",
    "    for index2 in range(index1+1, len(quad_cells)):\n",
    "        duplicate = True;\n",
    "        for k,m in zip(quad_cells[index1], quad_cells[index2]):\n",
    "            if k.equals(m) is False:\n",
    "                duplicate = False;\n",
    "                break;\n",
    "        if(duplicate is True):\n",
    "            if index2 not in to_remove:\n",
    "                to_remove.append(index2);\t\t\n",
    "\n",
    "for index in sorted(to_remove, reverse=True):\n",
    "    del quad_cells[index];\n",
    "\n",
    "# # One more pass to remove extra quads generated because of cross - segments\n",
    "quads_to_remove = [];\n",
    "for index1 in range(len(quad_cells)):\n",
    "    for index2 in range(len(quad_cells)):\n",
    "        if(index1 != index2 and quad_cells[index1][0].x == quad_cells[index2][0].x and quad_cells[index1][1].x == quad_cells[index2][1].x):\n",
    "\n",
    "            if( (quad_cells[index1][0].y<= quad_cells[index2][0].y) and  (quad_cells[index1][1].y<= quad_cells[index2][1].y)\n",
    "                and (quad_cells[index1][2].y>= quad_cells[index2][2].y) and (quad_cells[index1][3].y >= quad_cells[index2][3].y)):\n",
    "                quads_to_remove.append(index2);\n",
    "\n",
    "\n",
    "quads_to_remove = list(set(quads_to_remove) );\n",
    "for index in sorted(quads_to_remove, reverse=True):\n",
    "    del quad_cells[index];\n",
    "\n",
    "\n",
    "#------------------------------------------------------\n",
    "# Add boundary lines\n",
    "if( boundary[0].x != new_sorted_vertices[0].x):\n",
    "    quad_cells.append([boundary[0], point(new_sorted_vertices[0].x, y_limit_lower), point(new_sorted_vertices[0].x, y_limit_upper), boundary[3]]);\n",
    "if( boundary[1].x != new_sorted_vertices[len(new_sorted_vertices)-1].x):\n",
    "    quad_cells.append([point(new_sorted_vertices[len(new_sorted_vertices)-1].x ,y_limit_lower), boundary[1], boundary[2], point(new_sorted_vertices[len(new_sorted_vertices)-1].x, y_limit_upper) ]);\n",
    "\n",
    "# #-------------------------------------------------------\n",
    "# # Plot final cells\n",
    "to_draw = quad_cells+tri_cells+others;\n",
    "for index, i in enumerate(to_draw):\n",
    "    x = [j.x for j in i];\n",
    "    y = [j.y for j in i];\n",
    "#     plt.figure(index)\n",
    "#     plt.xlim(0,300)\n",
    "#     plt.ylim(0,200)\n",
    "    plt.plot(x, y);\n"
   ]
  },
  {
   "cell_type": "code",
   "execution_count": null,
   "metadata": {},
   "outputs": [],
   "source": []
  },
  {
   "cell_type": "code",
   "execution_count": null,
   "metadata": {},
   "outputs": [],
   "source": []
  }
 ],
 "metadata": {
  "kernelspec": {
   "display_name": "py3.6",
   "language": "python",
   "name": "py3.6"
  },
  "language_info": {
   "codemirror_mode": {
    "name": "ipython",
    "version": 3
   },
   "file_extension": ".py",
   "mimetype": "text/x-python",
   "name": "python",
   "nbconvert_exporter": "python",
   "pygments_lexer": "ipython3",
   "version": "3.6.6"
  }
 },
 "nbformat": 4,
 "nbformat_minor": 2
}
