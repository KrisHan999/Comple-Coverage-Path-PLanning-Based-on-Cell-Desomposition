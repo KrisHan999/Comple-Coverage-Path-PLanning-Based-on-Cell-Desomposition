{
 "cells": [
  {
   "cell_type": "code",
   "execution_count": 1,
   "metadata": {},
   "outputs": [],
   "source": [
    "import cv2\n",
    "import numpy as np\n",
    "import matplotlib.pyplot as plt\n",
    "import matplotlib.image as mpimg\n",
    "import sys\n",
    "from helpers.graph import *\n",
    "from helpers.geometry import *;\n",
    "import matplotlib.pyplot as plt\n",
    "\n",
    "%load_ext autoreload\n",
    "%autoreload\n",
    "%matplotlib notebook"
   ]
  },
  {
   "cell_type": "code",
   "execution_count": 2,
   "metadata": {},
   "outputs": [],
   "source": [
    "# use cv2.pyrMeanShiftFiltering if filter = True\n",
    "# sp – The spatial window radius.\n",
    "# sr – The color window radius.\n",
    "def generate_polygon_countour(image, filter=None, sp=None, sr=None):\n",
    "    if filter:\n",
    "        image = cv2.pyrMeanShiftFiltering(image, sp, sr)\n",
    "    gray_image = cv2.cvtColor(image, cv2.COLOR_BGR2GRAY)\n",
    "    ret, threshold = cv2.threshold(gray_image, 0, 255, cv2.THRESH_BINARY+cv2.THRESH_OTSU)\n",
    "    _, countours, _ = cv2.findContours(threshold, cv2.RETR_TREE, cv2.CHAIN_APPROX_SIMPLE)\n",
    "    \n",
    "    approxes = []\n",
    "    for i, cnt in enumerate(countours):\n",
    "        episilon = 0.01 * cv2.arcLength(cnt, True)\n",
    "        approxes.append(cv2.approxPolyDP(cnt, episilon, True))\n",
    "    return approxes"
   ]
  },
  {
   "cell_type": "code",
   "execution_count": 3,
   "metadata": {
    "scrolled": false
   },
   "outputs": [
    {
     "data": {
      "text/plain": [
       "<matplotlib.image.AxesImage at 0x1e89c425ba8>"
      ]
     },
     "execution_count": 3,
     "metadata": {},
     "output_type": "execute_result"
    },
    {
     "data": {
      "image/png": "[encoded data removed]",
      "text/plain": [
       "<Figure size 432x288 with 1 Axes>"
      ]
     },
     "metadata": {
      "needs_background": "light"
     },
     "output_type": "display_data"
    }
   ],
   "source": [
    "img = cv2.imread(\"new_paint.png\")\n",
    "plt.imshow(img)"
   ]
  },
  {
   "cell_type": "code",
   "execution_count": 4,
   "metadata": {},
   "outputs": [
    {
     "data": {
      "text/plain": [
       "<matplotlib.image.AxesImage at 0x1e89c4c0f60>"
      ]
     },
     "execution_count": 4,
     "metadata": {},
     "output_type": "execute_result"
    },
    {
     "data": {
      "image/png": "[encoded data removed]",
      "text/plain": [
       "<Figure size 432x288 with 1 Axes>"
      ]
     },
     "metadata": {
      "needs_background": "light"
     },
     "output_type": "display_data"
    }
   ],
   "source": [
    "approxes = generate_polygon_countour(img)\n",
    "for approx in approxes:\n",
    "    img = cv2.drawContours(img, [approx], 0, (0,255,0), 3)\n",
    "plt.imshow(img)"
   ]
  },
  {
   "cell_type": "code",
   "execution_count": 5,
   "metadata": {
    "scrolled": true
   },
   "outputs": [],
   "source": [
    "polygons = [np.squeeze(x) for x in approxes]\n",
    "\n",
    "y_limit_lower = min([pt[1] for pt in polygons[0]])\n",
    "y_limit_upper = max([pt[1] for pt in polygons[0]])\n",
    "\n",
    "x_limit_lower = min([pt[0] for pt in polygons[0]])\n",
    "x_limit_upper = max([pt[0] for pt in polygons[0]])\n",
    "\n",
    "# boundary_basic certex order\n",
    "boundary_basic = [[x_limit_lower, y_limit_lower], [x_limit_upper, y_limit_lower], [x_limit_upper, y_limit_upper], [x_limit_lower, y_limit_upper]]\n",
    "obstacles_basic = polygons[1:]\n",
    "source_basic, dest_basic = [[10, 10], [1000, 500]]"
   ]
  },
  {
   "cell_type": "code",
   "execution_count": 6,
   "metadata": {},
   "outputs": [
    {
     "data": {
      "text/plain": [
       "[[0, 0], [1151, 0], [1151, 647], [0, 647]]"
      ]
     },
     "execution_count": 6,
     "metadata": {},
     "output_type": "execute_result"
    }
   ],
   "source": [
    "boundary_basic"
   ]
  },
  {
   "cell_type": "code",
   "execution_count": 7,
   "metadata": {},
   "outputs": [
    {
     "data": {
      "text/plain": [
       "[array([[406, 264],\n",
       "        [568, 365],\n",
       "        [408, 468],\n",
       "        [245, 367]], dtype=int32), array([[684,  98],\n",
       "        [820, 162],\n",
       "        [718, 251],\n",
       "        [903, 285],\n",
       "        [640, 416],\n",
       "        [540, 216]], dtype=int32), array([[278, 221],\n",
       "        [391,  81],\n",
       "        [502, 223]], dtype=int32)]"
      ]
     },
     "execution_count": 7,
     "metadata": {},
     "output_type": "execute_result"
    }
   ],
   "source": [
    "obstacles_basic"
   ]
  },
  {
   "cell_type": "code",
   "execution_count": 8,
   "metadata": {},
   "outputs": [],
   "source": [
    "def extract_vertex(_boundary, _source, _dest, _obstacles=None):\n",
    "    boundary = [point(i[0], i[1]) for i in _boundary]\n",
    "    source = point(_source[0], _source[1])\n",
    "    dest = point(_dest[0], _dest[1])\n",
    "    # Extract obstacles\n",
    "#     obstacles = []\n",
    "#     for i in raw_data[1:-1]:\n",
    "#         obstacles.append()\n",
    "    return boundary, source, dest"
   ]
  },
  {
   "cell_type": "code",
   "execution_count": 9,
   "metadata": {},
   "outputs": [],
   "source": [
    "boundary, source, dest = extract_vertex(boundary_basic, source_basic, dest_basic)\n",
    "obstacles = obstacles_basic"
   ]
  },
  {
   "cell_type": "code",
   "execution_count": 10,
   "metadata": {},
   "outputs": [],
   "source": [
    "# Draw the obstacles and point the source and the destination----------------------------------------------\n",
    "def draw_problem(boundary, obstacles, source, dest):\n",
    "    bnd_x = [i.x for i in boundary]\n",
    "    # add the x-value of the start point\n",
    "    bnd_x.append(boundary[0].x)\n",
    "    bnd_y = [i.y for i in boundary]\n",
    "    # add the y-value of the start point\n",
    "    bnd_y.append(boundary[0].y)\n",
    "\n",
    "\n",
    "    # Draw the boundary\n",
    "    plt.plot(bnd_x, bnd_y)\n",
    "\n",
    "    poly_x = []\n",
    "    poly_y = []\n",
    "    for index, i in enumerate(obstacles):\n",
    "        poly_x.append([p[0] for p in i])\n",
    "        poly_y.append([p[1] for p in i])\n",
    "\n",
    "        plt.fill( poly_x[index], poly_y[index], color=\"#512DA8\")\n",
    "\n",
    "    plt.plot(source.x, source.y, marker=\"o\")\n",
    "    plt.plot(dest.x, dest.y, marker=\"o\")\n",
    "    plt.annotate('Source', xy=(source.x, source.y), xytext=(source.x+5, source.y-6) )\n",
    "    plt.annotate('Destination', xy=(dest.x, dest.y), xytext=(dest.x-4, dest.y-10) )"
   ]
  },
  {
   "cell_type": "code",
   "execution_count": 11,
   "metadata": {},
   "outputs": [
    {
     "name": "stdout",
     "output_type": "stream",
     "text": [
      "x = 245, y = 367, obs = 0 and test:-1\n",
      "x = 278, y = 221, obs = 2 and test:-1\n",
      "x = 391, y = 81, obs = 2 and test:-1\n",
      "x = 406, y = 264, obs = 0 and test:-1\n",
      "x = 408, y = 468, obs = 0 and test:-1\n",
      "x = 502, y = 223, obs = 2 and test:-1\n",
      "x = 540, y = 216, obs = 1 and test:-1\n",
      "x = 568, y = 365, obs = 0 and test:-1\n",
      "x = 640, y = 416, obs = 1 and test:-1\n",
      "x = 684, y = 98, obs = 1 and test:-1\n",
      "x = 718, y = 251, obs = 1 and test:-1\n",
      "x = 820, y = 162, obs = 1 and test:-1\n",
      "x = 903, y = 285, obs = 1 and test:-1\n"
     ]
    }
   ],
   "source": [
    "# sort the vertex based on the x-value, also add the index information\n",
    "new_sorted_vertices = []\n",
    "for index, pnts in enumerate(obstacles_basic):\n",
    "    for pnt in pnts:\n",
    "        new_sorted_vertices.append(point(pnt[0], pnt[1], index))\n",
    "new_sorted_vertices.sort(key = lambda pnt: pnt.x)\n",
    "\n",
    "for pnt in new_sorted_vertices:\n",
    "    print(pnt)"
   ]
  },
  {
   "cell_type": "code",
   "execution_count": 12,
   "metadata": {},
   "outputs": [
    {
     "name": "stdout",
     "output_type": "stream",
     "text": [
      "x = 406, y = 264, obs = 0 and test:-1\n",
      "x = 568, y = 365, obs = 0 and test:-1\n",
      "x = 408, y = 468, obs = 0 and test:-1\n",
      "x = 245, y = 367, obs = 0 and test:-1\n",
      "x = 684, y = 98, obs = 1 and test:-1\n",
      "x = 820, y = 162, obs = 1 and test:-1\n",
      "x = 718, y = 251, obs = 1 and test:-1\n",
      "x = 903, y = 285, obs = 1 and test:-1\n",
      "x = 640, y = 416, obs = 1 and test:-1\n",
      "x = 540, y = 216, obs = 1 and test:-1\n",
      "x = 278, y = 221, obs = 2 and test:-1\n",
      "x = 391, y = 81, obs = 2 and test:-1\n",
      "x = 502, y = 223, obs = 2 and test:-1\n"
     ]
    }
   ],
   "source": [
    "# obstacle array, each element is a obstacle composed by the points[x, y, index]\n",
    "# [ob1, ob2, o3, ...]\n",
    "new_obstacles = []\n",
    "for index, i in enumerate(obstacles_basic):\n",
    "    temp_obs = []\n",
    "    for j in i:\n",
    "        temp = point(j[0], j[1], index)\n",
    "        temp_obs.append(temp)\n",
    "    new_obstacles.append(temp_obs)\n",
    "    \n",
    "for ost in new_obstacles:\n",
    "    for pnt in ost:\n",
    "        print(pnt)"
   ]
  },
  {
   "cell_type": "code",
   "execution_count": 13,
   "metadata": {},
   "outputs": [
    {
     "name": "stdout",
     "output_type": "stream",
     "text": [
      "[array([[406, 264],\n",
      "       [568, 365],\n",
      "       [408, 468],\n",
      "       [245, 367]], dtype=int32), array([[684,  98],\n",
      "       [820, 162],\n",
      "       [718, 251],\n",
      "       [903, 285],\n",
      "       [640, 416],\n",
      "       [540, 216]], dtype=int32), array([[278, 221],\n",
      "       [391,  81],\n",
      "       [502, 223]], dtype=int32)]\n"
     ]
    }
   ],
   "source": [
    "print(obstacles_basic)"
   ]
  },
  {
   "cell_type": "code",
   "execution_count": 14,
   "metadata": {
    "scrolled": true
   },
   "outputs": [
    {
     "data": {
      "image/png": "[encoded data removed]",
      "text/plain": [
       "<Figure size 432x288 with 1 Axes>"
      ]
     },
     "metadata": {
      "needs_background": "light"
     },
     "output_type": "display_data"
    }
   ],
   "source": [
    "draw_problem(boundary, obstacles_basic, source, dest)"
   ]
  },
  {
   "cell_type": "code",
   "execution_count": 15,
   "metadata": {
    "scrolled": true
   },
   "outputs": [
    {
     "data": {
      "image/png": "[encoded data removed]",
      "text/plain": [
       "<Figure size 432x288 with 1 Axes>"
      ]
     },
     "metadata": {
      "needs_background": "light"
     },
     "output_type": "display_data"
    }
   ],
   "source": [
    "# draw_problem(boundary, obstacles_basic, source, dest)\n",
    "#-----------------------------------------------------------\n",
    "# Find vertical lines\n",
    "# Make sure all the vertical line has the same x-value as the current vertex\n",
    "open_line_segments = [];\n",
    "\n",
    "for pt in new_sorted_vertices:\n",
    "    curr_line_segment = [ point(pt.x, y_limit_lower), point(pt.x, y_limit_upper) ]; \n",
    "    lower_obs_pt = curr_line_segment[0];\n",
    "    upper_obs_pt = curr_line_segment[1];\n",
    "    # upper_gone is True if there is no line above the current vertex\n",
    "    # lower_gone is True if there is no line below the current vertex\n",
    "    upper_gone = False;\n",
    "    lower_gone = False;\n",
    "    # break_now is True if already find the vertical line\n",
    "    break_now = False;\n",
    "    \n",
    "    intersections = []\n",
    "\n",
    "    # Find intersection points with the vertical proposed lines. the intersection function returns false if segments are same, so no need to worry about same segment checking\n",
    "    for index,obs in enumerate(new_obstacles):\n",
    "        # Add the first point again for the last line segment of a polygon.\n",
    "        obs.append( obs[0] );\n",
    "\n",
    "        for vertex_index in range(len(obs)-1 ):\n",
    "            # compare curr_line and segment from obstacle\n",
    "            # check whether the two section is intersected or colinear\n",
    "            # since the curr_line is the segment [point(pt.x, y_limit_lower), point(pt.x, y_limit_upper)], so that if the points are colinear, it must intersect\n",
    "            # return the intersection point if the line intersect, and -1 if not.\n",
    "            res = segment_intersection( curr_line_segment[0], curr_line_segment[1], obs[vertex_index],  obs[vertex_index+1])\n",
    "            \n",
    "            # if there is an intersection between current_line_seg and current obstacle edge\n",
    "            if (res!=-1):\n",
    "                # make sure the intersection has the same x-value as the current vertical line\n",
    "                res.x = pt.x\n",
    "                if pt.equals( res ) == False:\n",
    "                    intersections.append(res)\n",
    "    # among all the intersection from the current vertical line, choose the closest points that above or below the current vertex\n",
    "    # For closest_lower point, if the point between it and the current vertex is in the obstacle, then lower_gone is True\n",
    "    # For cloeset_upper point, if the point between it and the current vertex is in the obstacle, then upper_gone is True\n",
    "    closest_lower, closest_upper = get_closest_intersection(pt, intersections)\n",
    "    if(closest_lower != None):\n",
    "        # check if the middle point pf current point and the intersection is inside theb polygon, lower_gone\n",
    "        if centroid([pt, closest_lower]).inside_polygon(new_obstacles):\n",
    "            lower_gone = True\n",
    "        else:\n",
    "            lower_obs_pt = closest_lower\n",
    "    \n",
    "    if(closest_upper != None):\n",
    "        # check if the middle point pf current point and the intersection is inside theb polygon, lower_gone\n",
    "        if centroid([pt, closest_upper]).inside_polygon(new_obstacles):\n",
    "            upper_gone = True\n",
    "        else:\n",
    "            upper_obs_pt = closest_upper\n",
    "        \n",
    "    # Draw the vertical cell lines\n",
    "    if(lower_gone is False):\n",
    "        plt.plot( [lower_obs_pt.x, pt.x],  [lower_obs_pt.y, pt.y] )\n",
    "\n",
    "    if(upper_gone is False):\n",
    "        plt.plot( [pt.x, upper_obs_pt.x],  [pt.y, upper_obs_pt.y] )\n",
    "\n",
    "    # Add to the global segment list\n",
    "    if (lower_gone and upper_gone):\n",
    "        open_line_segments.append([None, None])\n",
    "    elif (lower_gone):\n",
    "        open_line_segments.append([None, upper_obs_pt])\n",
    "    elif (upper_gone):\n",
    "        open_line_segments.append([lower_obs_pt, None])\n",
    "    else:\n",
    "        open_line_segments.append([lower_obs_pt, upper_obs_pt])"
   ]
  },
  {
   "cell_type": "code",
   "execution_count": 16,
   "metadata": {
    "scrolled": false
   },
   "outputs": [
    {
     "data": {
      "image/png": "[encoded data removed]",
      "text/plain": [
       "<Figure size 432x288 with 1 Axes>"
      ]
     },
     "metadata": {
      "needs_background": "light"
     },
     "output_type": "display_data"
    }
   ],
   "source": [
    "draw_problem(boundary, obstacles, source, dest)\n",
    "#------------------------------------------------------\n",
    "# Find Polygon cells naiively. Will improve next. \n",
    "# cells = []\n",
    "# trapezoids = []\n",
    "quad_cells = []\n",
    "left_tri_cells = []\n",
    "right_tri_cells = []\n",
    "others = []\n",
    "# open_line_segments and new_sorted_vertices has the same order of points, based on the x_value\n",
    "\n",
    "\n",
    "# Important:\n",
    "# Don't change the value of element in new_sorted_vertices and open_line_segments\n",
    "\n",
    "\n",
    "for index1 in range(len(open_line_segments) ):\n",
    "    curr_segment = open_line_segments[index1];\n",
    "    curr_vertex = new_sorted_vertices[index1];\n",
    "    plt.plot(curr_vertex.x, curr_vertex.y, marker='o')\n",
    "    break_now = False;\n",
    "    done = [False, False, True];\n",
    "\n",
    "    # if the lower pt is the vertice\n",
    "    # done[0] is True if there is no polygon below the vertex, or already get the lower polygon\n",
    "    if( curr_segment[0] is None ):\n",
    "        done[0] = True; \n",
    "    # if the upper vertice is the vertice\n",
    "    # done[1] is True if there is no polygon above the vertex, or already get the upper polygon\n",
    "    if( curr_segment[1] is None ):\n",
    "        done[1] = True;\n",
    "    # if both lower and upper pts are the vertice, which also means there is no vertical line through this line\n",
    "    # if done[3] is True if there is no upper or lower polygon for this vertex and find the polygon for this vertex\n",
    "    if( curr_segment[0] is None and curr_segment[1] is None):\n",
    "        done[2] = False;\n",
    "\n",
    "    # index2 the following sorted vertices\n",
    "    for index2 in range(index1+1,  len(open_line_segments)):\n",
    "        next_segment = open_line_segments[index2];\n",
    "        next_vertex = new_sorted_vertices[index2];\n",
    "\n",
    "        double_index1 = -2;\n",
    "        double_index2 = -2;\n",
    "        lines_to_check = [];\n",
    "        \n",
    "        double_check = False;\n",
    "\n",
    "        # double_check is True if there are lines below and above the vertex\n",
    "        if (next_segment[0] is not None and next_segment[1] is not None ):\n",
    "            double_check = True;\n",
    "\n",
    "        # if the lower pt isn't the vertice\n",
    "        # check whether there is a polygon use the [current_vertex, current_segment[0]] as boundary\n",
    "        if( done[0] is False ):\n",
    "            if ( next_segment[0] is not None ):\n",
    "                # check the upper polygon\n",
    "                if(check_quad_polygon(curr_vertex, curr_segment[0], next_vertex, next_segment[0], new_obstacles)):\n",
    "                    quad_cells.append([ curr_segment[0], next_segment[0], next_vertex, curr_vertex ])\n",
    "                    done[0] = True\n",
    "            \n",
    "            if( next_segment[1] is not None ):\n",
    "                # check the lower polygon\n",
    "                if(check_quad_polygon(curr_vertex, curr_segment[0], next_vertex, next_segment[1], new_obstacles)):\n",
    "                    quad_cells.append([ curr_segment[0], next_vertex, next_segment[1], curr_vertex ])\n",
    "                    done[0] = True\n",
    "                \n",
    "            if(next_segment[0] is None and next_segment[1] is None):\n",
    "                if(check_right_tri_polygon(curr_vertex, curr_segment[0], next_vertex, new_obstacles)):\n",
    "                    right_tri_cells.append([ curr_segment[0], next_vertex, curr_vertex ])\n",
    "                    done[0] = True\n",
    "               \n",
    "        # check whether there is a polygon use the [current_vertex, current_segment[1]] as boundary\n",
    "        if( done[1] is False ):\n",
    "            if ( next_segment[1] is not None ):\n",
    "                # check the upper polygon\n",
    "                if(check_quad_polygon(curr_vertex, curr_segment[1], next_vertex, next_segment[1], new_obstacles)):\n",
    "#                     print(\"add\")\n",
    "                    quad_cells.append([ curr_vertex, next_vertex, next_segment[1], curr_segment[1] ])\n",
    "                    done[1] = True\n",
    "        \n",
    "            if( next_segment[0] is not None ):\n",
    "                # check the lower polygon\n",
    "                if(check_quad_polygon(curr_vertex, curr_segment[1], next_vertex, next_segment[0], new_obstacles)):\n",
    "#                     print(\"add\")\n",
    "                    quad_cells.append([ curr_vertex, next_segment[0], next_vertex , curr_segment[1]] )\n",
    "                    done[1] = True\n",
    "        \n",
    "            if( next_segment[0] is None and next_segment[1] is None):\n",
    "                if(check_right_tri_polygon(curr_vertex, curr_segment[1], next_vertex, new_obstacles)):\n",
    "#                     print(\"add\")\n",
    "                    right_tri_cells.append([ curr_vertex, next_vertex, curr_segment[1] ])\n",
    "                    done[1] = True\n",
    "\n",
    "        \n",
    "        if( done[2] is False ):\n",
    "            if ( next_segment[0] is not None ):\n",
    "                if(check_left_tri_polygon(curr_vertex, next_segment[0], next_vertex, new_obstacles)):\n",
    "#                     print(\"add\")\n",
    "                    left_tri_cells.append([ curr_vertex,next_segment[0], next_vertex ])\n",
    "                    done[2] = True\n",
    "                    \n",
    "            if( next_segment[1] is not None ):\n",
    "                if(check_left_tri_polygon(curr_vertex, next_segment[1], next_vertex, new_obstacles)):\n",
    "#                     print(\"add\")\n",
    "                    left_tri_cells.append([ curr_vertex, next_vertex, next_segment[1] ])\n",
    "                    done[2] = True\n",
    "\n",
    "        if( done[0] == True and done[1] == True and done[2] == True ):\n",
    "            break;\n"
   ]
  },
  {
   "cell_type": "code",
   "execution_count": 17,
   "metadata": {},
   "outputs": [],
   "source": [
    "#-------------------------------------------------------\n",
    "# Merge overlapping Polygons\n",
    "# quad_cells = [i for i in cells if len(i)>3]\n",
    "# tri_cells = [i for i in cells if len(i)==3]\n",
    "# others = [i for i in cells if len(i)<3]\n",
    "quads_to_remove = []\n",
    "quads_to_add = []\n",
    "\n",
    "quads_to_remove = []\n",
    "quads_to_add = []\n",
    "for index_cell in range(len(quad_cells)):\n",
    "    for index_cell2,cell in enumerate(quad_cells):\n",
    "        if(index_cell != index_cell2):\n",
    "            # if two quad_cell has the same x-direction location, then check wether they could merge\n",
    "            if(quad_cells[index_cell][0].x == cell[0].x and quad_cells[index_cell][1].x == cell[1].x):\n",
    "                    temp1 = list(quad_cells[index_cell])\n",
    "                    temp1.append(temp1[0])\n",
    "                    temp2 = list(cell)\n",
    "                    temp2.append(temp2[0])\n",
    "                    area1 = quad_polygon_area(temp1)\n",
    "                    area2 = quad_polygon_area(temp2)\n",
    "                    \n",
    "                    # construct new polygon\n",
    "                    new_quad=[];\n",
    "                    new_quad.append( point(temp1[0].x, min(temp1[0].y, temp2[0].y)) )\n",
    "                    new_quad.append( point(temp1[1].x, min(temp1[1].y, temp2[1].y)) )\n",
    "                    new_quad.append( point(temp1[1].x, max(temp1[2].y, temp2[2].y)) )\n",
    "                    new_quad.append( point(temp1[0].x, max(temp1[3].y, temp2[3].y)) )\n",
    "                    area3 = quad_polygon_area(new_quad);\n",
    "                    \n",
    "                    if( area1 + area2 >= area3):\n",
    "                        #merge\n",
    "                        quads_to_remove.append(index_cell)\n",
    "                        quads_to_remove.append(index_cell2)\n",
    "                        quads_to_add.append(new_quad)\n",
    "                        \n",
    "# delete the duplicated index\n",
    "quads_to_remove = list(set(quads_to_remove))\n",
    "# generate the reversed array, so that deleting one element will not affect the element before\n",
    "for index in sorted(quads_to_remove, reverse=True):\n",
    "    del quad_cells[index];\n",
    "\n",
    "for i in quads_to_add:\n",
    "    quad_cells.append(i);"
   ]
  },
  {
   "cell_type": "code",
   "execution_count": 18,
   "metadata": {},
   "outputs": [],
   "source": [
    "# # Remove duplicates\n",
    "to_remove = [];\n",
    "for index1 in range(len(quad_cells)):\n",
    "    for index2 in range(index1+1, len(quad_cells)):\n",
    "        duplicate = True;\n",
    "        for k,m in zip(quad_cells[index1], quad_cells[index2]):\n",
    "            if k.equals(m) is False:\n",
    "                duplicate = False\n",
    "                break\n",
    "        if(duplicate is True):\n",
    "            if index2 not in to_remove:\n",
    "                to_remove.append(index2)\n",
    "\n",
    "for index in sorted(to_remove, reverse=True):\n",
    "    del quad_cells[index]\n"
   ]
  },
  {
   "cell_type": "code",
   "execution_count": 19,
   "metadata": {},
   "outputs": [],
   "source": [
    "# One more pass to remove extra quads generated because of cross-intersection\n",
    "quads_to_remove = [];\n",
    "for index1 in range(len(quad_cells)):\n",
    "    for index2 in range(len(quad_cells)):\n",
    "        if(index1 != index2 and quad_cells[index1][0].x == quad_cells[index2][0].x and quad_cells[index1][1].x == quad_cells[index2][1].x):\n",
    "\n",
    "            if( (quad_cells[index1][0].y<= quad_cells[index2][0].y) and  (quad_cells[index1][1].y<= quad_cells[index2][1].y)\n",
    "                and (quad_cells[index1][2].y>= quad_cells[index2][2].y) and (quad_cells[index1][3].y >= quad_cells[index2][3].y)):\n",
    "                quads_to_remove.append(index2)\n",
    "\n",
    "\n",
    "quads_to_remove = list(set(quads_to_remove))\n",
    "for index in sorted(quads_to_remove, reverse=True):\n",
    "    del quad_cells[index];\n"
   ]
  },
  {
   "cell_type": "code",
   "execution_count": 20,
   "metadata": {},
   "outputs": [],
   "source": [
    "# ------------------------------------------------------\n",
    "# Add boundary lines\n",
    "if( boundary[0].x != new_sorted_vertices[0].x):\n",
    "    quad_cells.append([boundary[0], point(new_sorted_vertices[0].x, y_limit_lower), point(new_sorted_vertices[0].x, y_limit_upper), boundary[3]]);\n",
    "if( boundary[1].x != new_sorted_vertices[len(new_sorted_vertices)-1].x):\n",
    "    quad_cells.append([point(new_sorted_vertices[len(new_sorted_vertices)-1].x ,y_limit_lower), boundary[1], boundary[2], point(new_sorted_vertices[len(new_sorted_vertices)-1].x, y_limit_upper)]);\n"
   ]
  },
  {
   "cell_type": "code",
   "execution_count": 102,
   "metadata": {
    "scrolled": false
   },
   "outputs": [
    {
     "name": "stdout",
     "output_type": "stream",
     "text": [
      "17\n",
      "polygon:  0\n",
      "x = 0, y = 0, obs = -1 and test:-1\n",
      "x = 245, y = 0, obs = -1 and test:-1\n",
      "x = 245, y = 647, obs = -1 and test:-1\n",
      "x = 0, y = 647, obs = -1 and test:-1\n",
      "polygon:  1\n",
      "x = 245, y = 367, obs = 0 and test:-1\n",
      "x = 408, y = 468, obs = 0 and test:-1\n",
      "x = 408, y = 647, obs = -1 and test:-1\n",
      "x = 245, y = 647, obs = -1 and test:-1\n",
      "polygon:  2\n",
      "x = 245, y = 0, obs = -1 and test:-1\n",
      "x = 278, y = 0, obs = -1 and test:-1\n",
      "x = 278, y = 346, obs = -1 and test:-1\n",
      "x = 245, y = 367, obs = -1 and test:-1\n",
      "polygon:  3\n",
      "x = 278, y = 0, obs = -1 and test:-1\n",
      "x = 391, y = 0, obs = -1 and test:-1\n",
      "x = 391, y = 81, obs = 2 and test:-1\n",
      "x = 278, y = 221, obs = 2 and test:-1\n",
      "polygon:  4\n",
      "x = 278, y = 221, obs = 2 and test:-1\n",
      "x = 406, y = 222, obs = -1 and test:-1\n",
      "x = 406, y = 264, obs = 0 and test:-1\n",
      "x = 278, y = 346, obs = -1 and test:-1\n",
      "polygon:  5\n",
      "x = 391, y = 0, obs = -1 and test:-1\n",
      "x = 502, y = 0, obs = -1 and test:-1\n",
      "x = 502, y = 223, obs = 2 and test:-1\n",
      "x = 391, y = 81, obs = 2 and test:-1\n",
      "polygon:  6\n",
      "x = 406, y = 222, obs = -1 and test:-1\n",
      "x = 502, y = 223, obs = 2 and test:-1\n",
      "x = 502, y = 324, obs = -1 and test:-1\n",
      "x = 406, y = 264, obs = 0 and test:-1\n",
      "polygon:  7\n",
      "x = 408, y = 468, obs = 0 and test:-1\n",
      "x = 568, y = 365, obs = 0 and test:-1\n",
      "x = 568, y = 647, obs = -1 and test:-1\n",
      "x = 408, y = 647, obs = -1 and test:-1\n",
      "polygon:  8\n",
      "x = 502, y = 0, obs = -1 and test:-1\n",
      "x = 540, y = 0, obs = -1 and test:-1\n",
      "x = 540, y = 348, obs = -1 and test:-1\n",
      "x = 502, y = 324, obs = -1 and test:-1\n",
      "polygon:  9\n",
      "x = 540, y = 216, obs = 1 and test:-1\n",
      "x = 568, y = 272, obs = -1 and test:-1\n",
      "x = 568, y = 365, obs = 0 and test:-1\n",
      "x = 540, y = 348, obs = -1 and test:-1\n",
      "polygon:  10\n",
      "x = 540, y = 0, obs = -1 and test:-1\n",
      "x = 684, y = 0, obs = -1 and test:-1\n",
      "x = 684, y = 98, obs = 1 and test:-1\n",
      "x = 540, y = 216, obs = 1 and test:-1\n",
      "polygon:  11\n",
      "x = 568, y = 272, obs = -1 and test:-1\n",
      "x = 640, y = 416, obs = -1 and test:-1\n",
      "x = 640, y = 647, obs = -1 and test:-1\n",
      "x = 568, y = 647, obs = -1 and test:-1\n",
      "polygon:  12\n",
      "x = 640, y = 416, obs = 1 and test:-1\n",
      "x = 903, y = 285, obs = 1 and test:-1\n",
      "x = 903, y = 647, obs = -1 and test:-1\n",
      "x = 640, y = 647, obs = -1 and test:-1\n",
      "polygon:  13\n",
      "x = 684, y = 0, obs = -1 and test:-1\n",
      "x = 820, y = 0, obs = -1 and test:-1\n",
      "x = 820, y = 162, obs = 1 and test:-1\n",
      "x = 684, y = 98, obs = 1 and test:-1\n",
      "polygon:  14\n",
      "x = 718, y = 251, obs = 1 and test:-1\n",
      "x = 820, y = 162, obs = 1 and test:-1\n",
      "x = 820, y = 270, obs = -1 and test:-1\n",
      "polygon:  15\n",
      "x = 820, y = 0, obs = -1 and test:-1\n",
      "x = 903, y = 0, obs = -1 and test:-1\n",
      "x = 903, y = 285, obs = -1 and test:-1\n",
      "x = 820, y = 270, obs = -1 and test:-1\n",
      "polygon:  16\n",
      "x = 903, y = 0, obs = -1 and test:-1\n",
      "x = 1151, y = 0, obs = -1 and test:-1\n",
      "x = 1151, y = 647, obs = -1 and test:-1\n",
      "x = 903, y = 647, obs = -1 and test:-1\n"
     ]
    },
    {
     "data": {
      "image/png": "[encoded data removed]",
      "text/plain": [
       "<Figure size 432x288 with 1 Axes>"
      ]
     },
     "metadata": {
      "needs_background": "light"
     },
     "output_type": "display_data"
    }
   ],
   "source": [
    "#-------------------------------------------------------\n",
    "# Plot final cells\n",
    "all_cell = quad_cells + left_tri_cells + right_tri_cells + others\n",
    "\n",
    "# sort the cell based on teh x-value of the first point\n",
    "all_cell.sort(key = lambda pnt: pnt[0].x)\n",
    "print(len(all_cell))\n",
    "for index, i in enumerate(all_cell):\n",
    "    x = [j.x for j in i]\n",
    "    x.append(x[0])\n",
    "    y = [j.y for j in i]\n",
    "    y.append(y[0])\n",
    "#     plt.figure(index)\n",
    "#     plt.xlim(0,1200)\n",
    "#     plt.ylim(0,700)\n",
    "    plt.fill(x, y)\n",
    "    print(\"polygon: \", index)\n",
    "    for x in i:\n",
    "        print(x)"
   ]
  },
  {
   "cell_type": "code",
   "execution_count": 93,
   "metadata": {
    "scrolled": true
   },
   "outputs": [],
   "source": [
    "nodes = []\n",
    "# define the type\n",
    "# 1: quad_cell\n",
    "# 2: left_tri_cell: left side has only one point\n",
    "# 3: right_tri_cell: right side has only one point\n",
    "for index, cell in enumerate(all_cell):\n",
    "    if(len(cell)) == 4:\n",
    "        nodes.append(node(index, cell, 1))\n",
    "    elif(len(cell) == 3 and cell[1].x == cell[2].x):\n",
    "        nodes.append(node(index, cell, 2))\n",
    "    elif(len(cell) == 3 and cell[0].x == cell[2].x):\n",
    "        nodes.append(node(index, cell, 3))\n",
    "#     print(\"{}-th polygon:\\n\\ttype: {}\\n\\tcentroid: {}\".format(index, nodes[index].type, nodes[index].centroid))\n",
    "    \n",
    "for curr_node in nodes:\n",
    "    for next_node in nodes:\n",
    "        if(next_node.index != curr_node.index):\n",
    "            # define the type\n",
    "            # 1: quad_cell\n",
    "            # 2: left_tri_cell: left side has only one point\n",
    "            # 3: right_tri_cell: right side has only one point\n",
    "            if((curr_node.type == 1 or curr_node.type == 2) and \n",
    "                (next_node.type == 1 or next_node.type == 3)):\n",
    "                if(curr_node.polygon[1].x == next_node.polygon[0].x):\n",
    "                    if( (max(curr_node.polygon[2].y, next_node.polygon[-1].y) - min(curr_node.polygon[1].y, next_node.polygon[0].y)) \n",
    "                         < (abs(curr_node.polygon[2].y - curr_node.polygon[1].y) + abs(next_node.polygon[-1].y - next_node.polygon[0].y)) ):\n",
    "                        curr_node.add_adjacent(next_node)\n",
    "    total_adjacent = curr_node.get_adjacent();\n",
    "    if(len(total_adjacent) == 1):\n",
    "        curr_node.add_middle_point(centroid([curr_node.polygon[1], curr_node.polygon[2]]))\n",
    "        curr_node.add_path_to_adjacency([curr_node.centroid, curr_node.middle_point[0], curr_node.adjacent[0].centroid])\n",
    "        \n",
    "    elif(len(total_adjacent) >= 1):\n",
    "        for i, ad_node in enumerate(total_adjacent):\n",
    "            curr_node.add_middle_point(centroid([ad_node.polygon[0], ad_node.polygon[-1]]))\n",
    "            curr_node.add_path_to_adjacency([curr_node.centroid, curr_node.middle_point[i], curr_node.adjacent[i].centroid])\n",
    "        \n",
    "    curr_node.calculate_distance()\n",
    "    "
   ]
  },
  {
   "cell_type": "code",
   "execution_count": 94,
   "metadata": {},
   "outputs": [
    {
     "data": {
      "text/plain": [
       "17"
      ]
     },
     "execution_count": 94,
     "metadata": {},
     "output_type": "execute_result"
    }
   ],
   "source": [
    "len(nodes)"
   ]
  },
  {
   "cell_type": "code",
   "execution_count": 95,
   "metadata": {},
   "outputs": [
    {
     "name": "stdout",
     "output_type": "stream",
     "text": [
      "current_node: 16\n",
      "current_node: 15\n",
      "current_node: 14\n",
      "current_node: 13\n",
      "current_node: 12\n",
      "current_node: 11\n",
      "adjacent_node: 12\n",
      "path\n",
      "distance is 323\n",
      "current_node: 10\n",
      "adjacent_node: 13\n",
      "path\n",
      "distance is 140\n",
      "current_node: 9\n",
      "current_node: 8\n",
      "current_node: 7\n",
      "current_node: 6\n",
      "current_node: 5\n",
      "current_node: 4\n",
      "adjacent_node: 6\n",
      "path\n",
      "distance is 157\n",
      "current_node: 3\n",
      "adjacent_node: 5\n",
      "path\n",
      "distance is 124\n",
      "current_node: 2\n",
      "current_node: 1\n",
      "adjacent_node: 7\n",
      "path\n",
      "distance is 121\n",
      "current_node: 0\n"
     ]
    }
   ],
   "source": [
    "del_nodes = []\n",
    "# merge the polygon with same vertical boundary\n",
    "for curr_node in reversed(nodes):\n",
    "    print(\"current_node: \" + str(curr_node.index))\n",
    "    if(len(curr_node.get_adjacent()) == 1):\n",
    "        ad_node = curr_node.get_adjacent()[0]\n",
    "        if (curr_node.type == 1 or curr_node.type == 2) and (ad_node.type == 1 or ad_node.type == 3):\n",
    "            if curr_node.polygon[1].y == ad_node.polygon[0].y and curr_node.polygon[2].y == ad_node.polygon[-1].y:\n",
    "                print(\"adjacent_node: \" + str(ad_node.index))\n",
    "                curr_node.polygon = merge_polygon(curr_node.polygon + ad_node.polygon)\n",
    "                curr_node.adjacent = ad_node.get_adjacent()\n",
    "                curr_node.middle_point = ad_node.middle_point\n",
    "                \n",
    "                old_path = curr_node.path_to_adjaceny[0]\n",
    "                curr_node.path_to_adjaceny = []\n",
    "                for path in ad_node.path_to_adjaceny:\n",
    "                    print(\"path\")\n",
    "                    curr_node.path_to_adjaceny.append(old_path + path)\n",
    "                \n",
    "                old_dist = curr_node.distance[0]\n",
    "                curr_node.distance = []\n",
    "                for dist in ad_node.distance:\n",
    "                    print(\"distance is \" + str(dist))\n",
    "                    curr_node.distance.append(old_dist + dist)\n",
    "                del_nodes.append(ad_node.index)"
   ]
  },
  {
   "cell_type": "code",
   "execution_count": 96,
   "metadata": {
    "scrolled": true
   },
   "outputs": [
    {
     "name": "stdout",
     "output_type": "stream",
     "text": [
      "[12, 13, 6, 5, 7]\n"
     ]
    }
   ],
   "source": [
    "print(del_nodes)\n",
    "del_nodes = sorted(del_nodes, reverse=True)\n",
    "for index in del_nodes:\n",
    "    nodes.pop(index)"
   ]
  },
  {
   "cell_type": "code",
   "execution_count": 97,
   "metadata": {},
   "outputs": [
    {
     "data": {
      "text/plain": [
       "12"
      ]
     },
     "execution_count": 97,
     "metadata": {},
     "output_type": "execute_result"
    }
   ],
   "source": [
    "len(nodes)"
   ]
  },
  {
   "cell_type": "code",
   "execution_count": 98,
   "metadata": {},
   "outputs": [
    {
     "data": {
      "text/plain": [
       "[1, 2, 3, 2, 3, 4]"
      ]
     },
     "execution_count": 98,
     "metadata": {},
     "output_type": "execute_result"
    }
   ],
   "source": [
    "[1,2,3] + [2,3,4]"
   ]
  },
  {
   "cell_type": "code",
   "execution_count": 103,
   "metadata": {
    "scrolled": false
   },
   "outputs": [
    {
     "name": "stdout",
     "output_type": "stream",
     "text": [
      "\n",
      "Current node index: 0\n",
      "Adjacent node index: 1\tdistance: 304\n",
      "Adjacent node index: 2\tdistance: 203\n",
      "\n",
      "Current node index: 1\n",
      "Adjacent node index: 11\tdistance: 290\n",
      "\n",
      "Current node index: 2\n",
      "Adjacent node index: 3\tdistance: 134\n",
      "Adjacent node index: 4\tdistance: 174\n",
      "\n",
      "Current node index: 3\n",
      "Adjacent node index: 8\tdistance: 256\n",
      "\n",
      "Current node index: 4\n",
      "Adjacent node index: 8\tdistance: 274\n",
      "\n",
      "Current node index: 8\n",
      "Adjacent node index: 9\tdistance: 137\n",
      "Adjacent node index: 10\tdistance: 139\n",
      "\n",
      "Current node index: 9\n",
      "Adjacent node index: 11\tdistance: 203\n",
      "\n",
      "Current node index: 10\n",
      "Adjacent node index: 15\tdistance: 287\n",
      "\n",
      "Current node index: 11\n",
      "Adjacent node index: 16\tdistance: 509\n",
      "\n",
      "Current node index: 14\n",
      "Adjacent node index: 15\tdistance: 123\n",
      "\n",
      "Current node index: 15\n",
      "Adjacent node index: 16\tdistance: 260\n",
      "\n",
      "Current node index: 16\n",
      "polygon:  0\n",
      "x = 0, y = 0, obs = -1 and test:-1\n",
      "x = 245, y = 0, obs = -1 and test:-1\n",
      "x = 245, y = 647, obs = -1 and test:-1\n",
      "x = 0, y = 647, obs = -1 and test:-1\n",
      "polygon:  1\n",
      "x = 245, y = 647, obs = -1 and test:-1\n",
      "x = 408, y = 647, obs = -1 and test:-1\n",
      "x = 568, y = 647, obs = -1 and test:-1\n",
      "x = 568, y = 365, obs = 0 and test:-1\n",
      "x = 408, y = 468, obs = 0 and test:-1\n",
      "x = 245, y = 367, obs = 0 and test:-1\n",
      "polygon:  2\n",
      "x = 245, y = 0, obs = -1 and test:-1\n",
      "x = 278, y = 0, obs = -1 and test:-1\n",
      "x = 278, y = 346, obs = -1 and test:-1\n",
      "x = 245, y = 367, obs = -1 and test:-1\n",
      "polygon:  3\n",
      "x = 278, y = 221, obs = 2 and test:-1\n",
      "x = 391, y = 81, obs = 2 and test:-1\n",
      "x = 502, y = 223, obs = 2 and test:-1\n",
      "x = 502, y = 0, obs = -1 and test:-1\n",
      "x = 391, y = 0, obs = -1 and test:-1\n",
      "x = 278, y = 0, obs = -1 and test:-1\n",
      "polygon:  4\n",
      "x = 278, y = 346, obs = -1 and test:-1\n",
      "x = 406, y = 264, obs = 0 and test:-1\n",
      "x = 502, y = 324, obs = -1 and test:-1\n",
      "x = 502, y = 223, obs = 2 and test:-1\n",
      "x = 406, y = 222, obs = -1 and test:-1\n",
      "x = 278, y = 221, obs = 2 and test:-1\n",
      "polygon:  5\n",
      "x = 502, y = 0, obs = -1 and test:-1\n",
      "x = 540, y = 0, obs = -1 and test:-1\n",
      "x = 540, y = 348, obs = -1 and test:-1\n",
      "x = 502, y = 324, obs = -1 and test:-1\n",
      "polygon:  6\n",
      "x = 540, y = 216, obs = 1 and test:-1\n",
      "x = 568, y = 272, obs = -1 and test:-1\n",
      "x = 568, y = 365, obs = 0 and test:-1\n",
      "x = 540, y = 348, obs = -1 and test:-1\n",
      "polygon:  7\n",
      "x = 540, y = 216, obs = 1 and test:-1\n",
      "x = 684, y = 98, obs = 1 and test:-1\n",
      "x = 820, y = 162, obs = 1 and test:-1\n",
      "x = 820, y = 0, obs = -1 and test:-1\n",
      "x = 684, y = 0, obs = -1 and test:-1\n",
      "x = 540, y = 0, obs = -1 and test:-1\n",
      "polygon:  8\n",
      "x = 568, y = 647, obs = -1 and test:-1\n",
      "x = 640, y = 647, obs = -1 and test:-1\n",
      "x = 903, y = 647, obs = -1 and test:-1\n",
      "x = 903, y = 285, obs = 1 and test:-1\n",
      "x = 640, y = 416, obs = -1 and test:-1\n",
      "x = 568, y = 272, obs = -1 and test:-1\n",
      "polygon:  9\n",
      "x = 718, y = 251, obs = 1 and test:-1\n",
      "x = 820, y = 162, obs = 1 and test:-1\n",
      "x = 820, y = 270, obs = -1 and test:-1\n",
      "polygon:  10\n",
      "x = 820, y = 0, obs = -1 and test:-1\n",
      "x = 903, y = 0, obs = -1 and test:-1\n",
      "x = 903, y = 285, obs = -1 and test:-1\n",
      "x = 820, y = 270, obs = -1 and test:-1\n",
      "polygon:  11\n",
      "x = 903, y = 0, obs = -1 and test:-1\n",
      "x = 1151, y = 0, obs = -1 and test:-1\n",
      "x = 1151, y = 647, obs = -1 and test:-1\n",
      "x = 903, y = 647, obs = -1 and test:-1\n"
     ]
    },
    {
     "data": {
      "image/png": "[encoded data removed]",
      "text/plain": [
       "<Figure size 432x288 with 1 Axes>"
      ]
     },
     "metadata": {
      "needs_background": "light"
     },
     "output_type": "display_data"
    }
   ],
   "source": [
    "for curr_node in nodes:\n",
    "    print(\"\\nCurrent node index: {}\".format(curr_node.index))\n",
    "    for index, ad_node in enumerate(curr_node.get_adjacent()):\n",
    "        print(\"Adjacent node index: {}\\tdistance: {}\".format(ad_node.index, curr_node.get_distance()[index]))\n",
    "        x = [point.x for point in curr_node.get_path_to_adjacency()[index]]\n",
    "        y = [point.y for point in curr_node.get_path_to_adjacency()[index]]\n",
    "#         plt.plot(x, y)\n",
    "\n",
    "#-------------------------------------------------------\n",
    "# Plot final cells\n",
    "for index, i in enumerate(nodes):\n",
    "    x = [j.x for j in i.polygon]\n",
    "    y = [j.y for j in i.polygon]\n",
    "    \n",
    "#     x.append(x[0])\n",
    "#     y.append(y[0])\n",
    "#     plt.plot(x, y)\n",
    "    \n",
    "#     plt.figure(index)\n",
    "#     plt.xlim(0,1200)\n",
    "#     plt.ylim(0,700)\n",
    "    plt.fill(x, y);\n",
    "    center = centroid(i.polygon)\n",
    "    plt.plot(center.x, center.y, marker=\"o\")\n",
    "    plt.annotate('cell-{}'.format(index), xy=(center.x, center.y))\n",
    "    print(\"polygon: \", index)\n",
    "    for x in i.polygon:\n",
    "        print(x)"
   ]
  },
  {
   "cell_type": "code",
   "execution_count": 57,
   "metadata": {},
   "outputs": [],
   "source": [
    "def print_node(node):\n",
    "    x = [j.x for j in node.polygon]\n",
    "    y = [j.y for j in node.polygon]\n",
    "    \n",
    "#     x.append(x[0])\n",
    "#     y.append(y[0])\n",
    "#     plt.plot(x, y)\n",
    "    \n",
    "#     plt.figure(index)\n",
    "    plt.xlim(0,1200)\n",
    "    plt.ylim(0,700)\n",
    "    plt.fill(x, y);"
   ]
  },
  {
   "cell_type": "code",
   "execution_count": null,
   "metadata": {},
   "outputs": [],
   "source": []
  }
 ],
 "metadata": {
  "kernelspec": {
   "display_name": "py3.6",
   "language": "python",
   "name": "py3.6"
  },
  "language_info": {
   "codemirror_mode": {
    "name": "ipython",
    "version": 3
   },
   "file_extension": ".py",
   "mimetype": "text/x-python",
   "name": "python",
   "nbconvert_exporter": "python",
   "pygments_lexer": "ipython3",
   "version": "3.6.6"
  }
 },
 "nbformat": 4,
 "nbformat_minor": 2
}
